{
  "nbformat": 4,
  "nbformat_minor": 0,
  "metadata": {
    "colab": {
      "provenance": [],
      "authorship_tag": "ABX9TyM9nR20LkrlyOhuyf3rbN7A",
      "include_colab_link": true
    },
    "kernelspec": {
      "name": "python3",
      "display_name": "Python 3"
    },
    "language_info": {
      "name": "python"
    }
  },
  "cells": [
    {
      "cell_type": "markdown",
      "metadata": {
        "id": "view-in-github",
        "colab_type": "text"
      },
      "source": [
        "<a href=\"https://colab.research.google.com/github/NEELIMASAI33/FMML-LABS/blob/main/food_delivery_time_estimation.ipynb\" target=\"_parent\"><img src=\"https://colab.research.google.com/assets/colab-badge.svg\" alt=\"Open In Colab\"/></a>"
      ]
    },
    {
      "source": [
        "import pandas as pd\n",
        "from sklearn.model_selection import train_test_split\n",
        "\n",
        "# Create a sample DataFrame (replace with your actual data loading)\n",
        "data = {'delivery_time': [30, 25, 40, 35, 20],\n",
        "        'feature1': [1, 2, 3, 4, 5],\n",
        "        'feature2': [6, 7, 8, 9, 10]}\n",
        "df = pd.DataFrame(data)\n",
        "\n",
        "# Now you can use 'df'\n",
        "X = df.drop('delivery_time', axis=1)  # Features (excluding target)\n",
        "y = df['delivery_time']  # Target variable (delivery time)\n",
        "\n",
        "X_train, X_test, y_train, y_test = train_test_split(X, y, test_size=0.2, random_state=42)"
      ],
      "cell_type": "code",
      "metadata": {
        "id": "ilnRq0oiGKSZ"
      },
      "execution_count": null,
      "outputs": []
    },
    {
      "cell_type": "code",
      "source": [
        "from sklearn.ensemble import RandomForestRegressor\n",
        "\n",
        "# Initialize the model\n",
        "model = RandomForestRegressor()\n",
        "\n",
        "# Train the model\n",
        "model.fit(X_train, y_train)\n"
      ],
      "metadata": {
        "colab": {
          "base_uri": "https://localhost:8080/",
          "height": 80
        },
        "id": "38GIPaqJGNW6",
        "outputId": "b03477ab-a28d-48c5-cd59-08e4ff1b653e"
      },
      "execution_count": null,
      "outputs": [
        {
          "output_type": "execute_result",
          "data": {
            "text/plain": [
              "RandomForestRegressor()"
            ],
            "text/html": [
              "<style>#sk-container-id-1 {\n",
              "  /* Definition of color scheme common for light and dark mode */\n",
              "  --sklearn-color-text: #000;\n",
              "  --sklearn-color-text-muted: #666;\n",
              "  --sklearn-color-line: gray;\n",
              "  /* Definition of color scheme for unfitted estimators */\n",
              "  --sklearn-color-unfitted-level-0: #fff5e6;\n",
              "  --sklearn-color-unfitted-level-1: #f6e4d2;\n",
              "  --sklearn-color-unfitted-level-2: #ffe0b3;\n",
              "  --sklearn-color-unfitted-level-3: chocolate;\n",
              "  /* Definition of color scheme for fitted estimators */\n",
              "  --sklearn-color-fitted-level-0: #f0f8ff;\n",
              "  --sklearn-color-fitted-level-1: #d4ebff;\n",
              "  --sklearn-color-fitted-level-2: #b3dbfd;\n",
              "  --sklearn-color-fitted-level-3: cornflowerblue;\n",
              "\n",
              "  /* Specific color for light theme */\n",
              "  --sklearn-color-text-on-default-background: var(--sg-text-color, var(--theme-code-foreground, var(--jp-content-font-color1, black)));\n",
              "  --sklearn-color-background: var(--sg-background-color, var(--theme-background, var(--jp-layout-color0, white)));\n",
              "  --sklearn-color-border-box: var(--sg-text-color, var(--theme-code-foreground, var(--jp-content-font-color1, black)));\n",
              "  --sklearn-color-icon: #696969;\n",
              "\n",
              "  @media (prefers-color-scheme: dark) {\n",
              "    /* Redefinition of color scheme for dark theme */\n",
              "    --sklearn-color-text-on-default-background: var(--sg-text-color, var(--theme-code-foreground, var(--jp-content-font-color1, white)));\n",
              "    --sklearn-color-background: var(--sg-background-color, var(--theme-background, var(--jp-layout-color0, #111)));\n",
              "    --sklearn-color-border-box: var(--sg-text-color, var(--theme-code-foreground, var(--jp-content-font-color1, white)));\n",
              "    --sklearn-color-icon: #878787;\n",
              "  }\n",
              "}\n",
              "\n",
              "#sk-container-id-1 {\n",
              "  color: var(--sklearn-color-text);\n",
              "}\n",
              "\n",
              "#sk-container-id-1 pre {\n",
              "  padding: 0;\n",
              "}\n",
              "\n",
              "#sk-container-id-1 input.sk-hidden--visually {\n",
              "  border: 0;\n",
              "  clip: rect(1px 1px 1px 1px);\n",
              "  clip: rect(1px, 1px, 1px, 1px);\n",
              "  height: 1px;\n",
              "  margin: -1px;\n",
              "  overflow: hidden;\n",
              "  padding: 0;\n",
              "  position: absolute;\n",
              "  width: 1px;\n",
              "}\n",
              "\n",
              "#sk-container-id-1 div.sk-dashed-wrapped {\n",
              "  border: 1px dashed var(--sklearn-color-line);\n",
              "  margin: 0 0.4em 0.5em 0.4em;\n",
              "  box-sizing: border-box;\n",
              "  padding-bottom: 0.4em;\n",
              "  background-color: var(--sklearn-color-background);\n",
              "}\n",
              "\n",
              "#sk-container-id-1 div.sk-container {\n",
              "  /* jupyter's `normalize.less` sets `[hidden] { display: none; }`\n",
              "     but bootstrap.min.css set `[hidden] { display: none !important; }`\n",
              "     so we also need the `!important` here to be able to override the\n",
              "     default hidden behavior on the sphinx rendered scikit-learn.org.\n",
              "     See: https://github.com/scikit-learn/scikit-learn/issues/21755 */\n",
              "  display: inline-block !important;\n",
              "  position: relative;\n",
              "}\n",
              "\n",
              "#sk-container-id-1 div.sk-text-repr-fallback {\n",
              "  display: none;\n",
              "}\n",
              "\n",
              "div.sk-parallel-item,\n",
              "div.sk-serial,\n",
              "div.sk-item {\n",
              "  /* draw centered vertical line to link estimators */\n",
              "  background-image: linear-gradient(var(--sklearn-color-text-on-default-background), var(--sklearn-color-text-on-default-background));\n",
              "  background-size: 2px 100%;\n",
              "  background-repeat: no-repeat;\n",
              "  background-position: center center;\n",
              "}\n",
              "\n",
              "/* Parallel-specific style estimator block */\n",
              "\n",
              "#sk-container-id-1 div.sk-parallel-item::after {\n",
              "  content: \"\";\n",
              "  width: 100%;\n",
              "  border-bottom: 2px solid var(--sklearn-color-text-on-default-background);\n",
              "  flex-grow: 1;\n",
              "}\n",
              "\n",
              "#sk-container-id-1 div.sk-parallel {\n",
              "  display: flex;\n",
              "  align-items: stretch;\n",
              "  justify-content: center;\n",
              "  background-color: var(--sklearn-color-background);\n",
              "  position: relative;\n",
              "}\n",
              "\n",
              "#sk-container-id-1 div.sk-parallel-item {\n",
              "  display: flex;\n",
              "  flex-direction: column;\n",
              "}\n",
              "\n",
              "#sk-container-id-1 div.sk-parallel-item:first-child::after {\n",
              "  align-self: flex-end;\n",
              "  width: 50%;\n",
              "}\n",
              "\n",
              "#sk-container-id-1 div.sk-parallel-item:last-child::after {\n",
              "  align-self: flex-start;\n",
              "  width: 50%;\n",
              "}\n",
              "\n",
              "#sk-container-id-1 div.sk-parallel-item:only-child::after {\n",
              "  width: 0;\n",
              "}\n",
              "\n",
              "/* Serial-specific style estimator block */\n",
              "\n",
              "#sk-container-id-1 div.sk-serial {\n",
              "  display: flex;\n",
              "  flex-direction: column;\n",
              "  align-items: center;\n",
              "  background-color: var(--sklearn-color-background);\n",
              "  padding-right: 1em;\n",
              "  padding-left: 1em;\n",
              "}\n",
              "\n",
              "\n",
              "/* Toggleable style: style used for estimator/Pipeline/ColumnTransformer box that is\n",
              "clickable and can be expanded/collapsed.\n",
              "- Pipeline and ColumnTransformer use this feature and define the default style\n",
              "- Estimators will overwrite some part of the style using the `sk-estimator` class\n",
              "*/\n",
              "\n",
              "/* Pipeline and ColumnTransformer style (default) */\n",
              "\n",
              "#sk-container-id-1 div.sk-toggleable {\n",
              "  /* Default theme specific background. It is overwritten whether we have a\n",
              "  specific estimator or a Pipeline/ColumnTransformer */\n",
              "  background-color: var(--sklearn-color-background);\n",
              "}\n",
              "\n",
              "/* Toggleable label */\n",
              "#sk-container-id-1 label.sk-toggleable__label {\n",
              "  cursor: pointer;\n",
              "  display: flex;\n",
              "  width: 100%;\n",
              "  margin-bottom: 0;\n",
              "  padding: 0.5em;\n",
              "  box-sizing: border-box;\n",
              "  text-align: center;\n",
              "  align-items: start;\n",
              "  justify-content: space-between;\n",
              "  gap: 0.5em;\n",
              "}\n",
              "\n",
              "#sk-container-id-1 label.sk-toggleable__label .caption {\n",
              "  font-size: 0.6rem;\n",
              "  font-weight: lighter;\n",
              "  color: var(--sklearn-color-text-muted);\n",
              "}\n",
              "\n",
              "#sk-container-id-1 label.sk-toggleable__label-arrow:before {\n",
              "  /* Arrow on the left of the label */\n",
              "  content: \"▸\";\n",
              "  float: left;\n",
              "  margin-right: 0.25em;\n",
              "  color: var(--sklearn-color-icon);\n",
              "}\n",
              "\n",
              "#sk-container-id-1 label.sk-toggleable__label-arrow:hover:before {\n",
              "  color: var(--sklearn-color-text);\n",
              "}\n",
              "\n",
              "/* Toggleable content - dropdown */\n",
              "\n",
              "#sk-container-id-1 div.sk-toggleable__content {\n",
              "  max-height: 0;\n",
              "  max-width: 0;\n",
              "  overflow: hidden;\n",
              "  text-align: left;\n",
              "  /* unfitted */\n",
              "  background-color: var(--sklearn-color-unfitted-level-0);\n",
              "}\n",
              "\n",
              "#sk-container-id-1 div.sk-toggleable__content.fitted {\n",
              "  /* fitted */\n",
              "  background-color: var(--sklearn-color-fitted-level-0);\n",
              "}\n",
              "\n",
              "#sk-container-id-1 div.sk-toggleable__content pre {\n",
              "  margin: 0.2em;\n",
              "  border-radius: 0.25em;\n",
              "  color: var(--sklearn-color-text);\n",
              "  /* unfitted */\n",
              "  background-color: var(--sklearn-color-unfitted-level-0);\n",
              "}\n",
              "\n",
              "#sk-container-id-1 div.sk-toggleable__content.fitted pre {\n",
              "  /* unfitted */\n",
              "  background-color: var(--sklearn-color-fitted-level-0);\n",
              "}\n",
              "\n",
              "#sk-container-id-1 input.sk-toggleable__control:checked~div.sk-toggleable__content {\n",
              "  /* Expand drop-down */\n",
              "  max-height: 200px;\n",
              "  max-width: 100%;\n",
              "  overflow: auto;\n",
              "}\n",
              "\n",
              "#sk-container-id-1 input.sk-toggleable__control:checked~label.sk-toggleable__label-arrow:before {\n",
              "  content: \"▾\";\n",
              "}\n",
              "\n",
              "/* Pipeline/ColumnTransformer-specific style */\n",
              "\n",
              "#sk-container-id-1 div.sk-label input.sk-toggleable__control:checked~label.sk-toggleable__label {\n",
              "  color: var(--sklearn-color-text);\n",
              "  background-color: var(--sklearn-color-unfitted-level-2);\n",
              "}\n",
              "\n",
              "#sk-container-id-1 div.sk-label.fitted input.sk-toggleable__control:checked~label.sk-toggleable__label {\n",
              "  background-color: var(--sklearn-color-fitted-level-2);\n",
              "}\n",
              "\n",
              "/* Estimator-specific style */\n",
              "\n",
              "/* Colorize estimator box */\n",
              "#sk-container-id-1 div.sk-estimator input.sk-toggleable__control:checked~label.sk-toggleable__label {\n",
              "  /* unfitted */\n",
              "  background-color: var(--sklearn-color-unfitted-level-2);\n",
              "}\n",
              "\n",
              "#sk-container-id-1 div.sk-estimator.fitted input.sk-toggleable__control:checked~label.sk-toggleable__label {\n",
              "  /* fitted */\n",
              "  background-color: var(--sklearn-color-fitted-level-2);\n",
              "}\n",
              "\n",
              "#sk-container-id-1 div.sk-label label.sk-toggleable__label,\n",
              "#sk-container-id-1 div.sk-label label {\n",
              "  /* The background is the default theme color */\n",
              "  color: var(--sklearn-color-text-on-default-background);\n",
              "}\n",
              "\n",
              "/* On hover, darken the color of the background */\n",
              "#sk-container-id-1 div.sk-label:hover label.sk-toggleable__label {\n",
              "  color: var(--sklearn-color-text);\n",
              "  background-color: var(--sklearn-color-unfitted-level-2);\n",
              "}\n",
              "\n",
              "/* Label box, darken color on hover, fitted */\n",
              "#sk-container-id-1 div.sk-label.fitted:hover label.sk-toggleable__label.fitted {\n",
              "  color: var(--sklearn-color-text);\n",
              "  background-color: var(--sklearn-color-fitted-level-2);\n",
              "}\n",
              "\n",
              "/* Estimator label */\n",
              "\n",
              "#sk-container-id-1 div.sk-label label {\n",
              "  font-family: monospace;\n",
              "  font-weight: bold;\n",
              "  display: inline-block;\n",
              "  line-height: 1.2em;\n",
              "}\n",
              "\n",
              "#sk-container-id-1 div.sk-label-container {\n",
              "  text-align: center;\n",
              "}\n",
              "\n",
              "/* Estimator-specific */\n",
              "#sk-container-id-1 div.sk-estimator {\n",
              "  font-family: monospace;\n",
              "  border: 1px dotted var(--sklearn-color-border-box);\n",
              "  border-radius: 0.25em;\n",
              "  box-sizing: border-box;\n",
              "  margin-bottom: 0.5em;\n",
              "  /* unfitted */\n",
              "  background-color: var(--sklearn-color-unfitted-level-0);\n",
              "}\n",
              "\n",
              "#sk-container-id-1 div.sk-estimator.fitted {\n",
              "  /* fitted */\n",
              "  background-color: var(--sklearn-color-fitted-level-0);\n",
              "}\n",
              "\n",
              "/* on hover */\n",
              "#sk-container-id-1 div.sk-estimator:hover {\n",
              "  /* unfitted */\n",
              "  background-color: var(--sklearn-color-unfitted-level-2);\n",
              "}\n",
              "\n",
              "#sk-container-id-1 div.sk-estimator.fitted:hover {\n",
              "  /* fitted */\n",
              "  background-color: var(--sklearn-color-fitted-level-2);\n",
              "}\n",
              "\n",
              "/* Specification for estimator info (e.g. \"i\" and \"?\") */\n",
              "\n",
              "/* Common style for \"i\" and \"?\" */\n",
              "\n",
              ".sk-estimator-doc-link,\n",
              "a:link.sk-estimator-doc-link,\n",
              "a:visited.sk-estimator-doc-link {\n",
              "  float: right;\n",
              "  font-size: smaller;\n",
              "  line-height: 1em;\n",
              "  font-family: monospace;\n",
              "  background-color: var(--sklearn-color-background);\n",
              "  border-radius: 1em;\n",
              "  height: 1em;\n",
              "  width: 1em;\n",
              "  text-decoration: none !important;\n",
              "  margin-left: 0.5em;\n",
              "  text-align: center;\n",
              "  /* unfitted */\n",
              "  border: var(--sklearn-color-unfitted-level-1) 1pt solid;\n",
              "  color: var(--sklearn-color-unfitted-level-1);\n",
              "}\n",
              "\n",
              ".sk-estimator-doc-link.fitted,\n",
              "a:link.sk-estimator-doc-link.fitted,\n",
              "a:visited.sk-estimator-doc-link.fitted {\n",
              "  /* fitted */\n",
              "  border: var(--sklearn-color-fitted-level-1) 1pt solid;\n",
              "  color: var(--sklearn-color-fitted-level-1);\n",
              "}\n",
              "\n",
              "/* On hover */\n",
              "div.sk-estimator:hover .sk-estimator-doc-link:hover,\n",
              ".sk-estimator-doc-link:hover,\n",
              "div.sk-label-container:hover .sk-estimator-doc-link:hover,\n",
              ".sk-estimator-doc-link:hover {\n",
              "  /* unfitted */\n",
              "  background-color: var(--sklearn-color-unfitted-level-3);\n",
              "  color: var(--sklearn-color-background);\n",
              "  text-decoration: none;\n",
              "}\n",
              "\n",
              "div.sk-estimator.fitted:hover .sk-estimator-doc-link.fitted:hover,\n",
              ".sk-estimator-doc-link.fitted:hover,\n",
              "div.sk-label-container:hover .sk-estimator-doc-link.fitted:hover,\n",
              ".sk-estimator-doc-link.fitted:hover {\n",
              "  /* fitted */\n",
              "  background-color: var(--sklearn-color-fitted-level-3);\n",
              "  color: var(--sklearn-color-background);\n",
              "  text-decoration: none;\n",
              "}\n",
              "\n",
              "/* Span, style for the box shown on hovering the info icon */\n",
              ".sk-estimator-doc-link span {\n",
              "  display: none;\n",
              "  z-index: 9999;\n",
              "  position: relative;\n",
              "  font-weight: normal;\n",
              "  right: .2ex;\n",
              "  padding: .5ex;\n",
              "  margin: .5ex;\n",
              "  width: min-content;\n",
              "  min-width: 20ex;\n",
              "  max-width: 50ex;\n",
              "  color: var(--sklearn-color-text);\n",
              "  box-shadow: 2pt 2pt 4pt #999;\n",
              "  /* unfitted */\n",
              "  background: var(--sklearn-color-unfitted-level-0);\n",
              "  border: .5pt solid var(--sklearn-color-unfitted-level-3);\n",
              "}\n",
              "\n",
              ".sk-estimator-doc-link.fitted span {\n",
              "  /* fitted */\n",
              "  background: var(--sklearn-color-fitted-level-0);\n",
              "  border: var(--sklearn-color-fitted-level-3);\n",
              "}\n",
              "\n",
              ".sk-estimator-doc-link:hover span {\n",
              "  display: block;\n",
              "}\n",
              "\n",
              "/* \"?\"-specific style due to the `<a>` HTML tag */\n",
              "\n",
              "#sk-container-id-1 a.estimator_doc_link {\n",
              "  float: right;\n",
              "  font-size: 1rem;\n",
              "  line-height: 1em;\n",
              "  font-family: monospace;\n",
              "  background-color: var(--sklearn-color-background);\n",
              "  border-radius: 1rem;\n",
              "  height: 1rem;\n",
              "  width: 1rem;\n",
              "  text-decoration: none;\n",
              "  /* unfitted */\n",
              "  color: var(--sklearn-color-unfitted-level-1);\n",
              "  border: var(--sklearn-color-unfitted-level-1) 1pt solid;\n",
              "}\n",
              "\n",
              "#sk-container-id-1 a.estimator_doc_link.fitted {\n",
              "  /* fitted */\n",
              "  border: var(--sklearn-color-fitted-level-1) 1pt solid;\n",
              "  color: var(--sklearn-color-fitted-level-1);\n",
              "}\n",
              "\n",
              "/* On hover */\n",
              "#sk-container-id-1 a.estimator_doc_link:hover {\n",
              "  /* unfitted */\n",
              "  background-color: var(--sklearn-color-unfitted-level-3);\n",
              "  color: var(--sklearn-color-background);\n",
              "  text-decoration: none;\n",
              "}\n",
              "\n",
              "#sk-container-id-1 a.estimator_doc_link.fitted:hover {\n",
              "  /* fitted */\n",
              "  background-color: var(--sklearn-color-fitted-level-3);\n",
              "}\n",
              "</style><div id=\"sk-container-id-1\" class=\"sk-top-container\"><div class=\"sk-text-repr-fallback\"><pre>RandomForestRegressor()</pre><b>In a Jupyter environment, please rerun this cell to show the HTML representation or trust the notebook. <br />On GitHub, the HTML representation is unable to render, please try loading this page with nbviewer.org.</b></div><div class=\"sk-container\" hidden><div class=\"sk-item\"><div class=\"sk-estimator fitted sk-toggleable\"><input class=\"sk-toggleable__control sk-hidden--visually\" id=\"sk-estimator-id-1\" type=\"checkbox\" checked><label for=\"sk-estimator-id-1\" class=\"sk-toggleable__label fitted sk-toggleable__label-arrow\"><div><div>RandomForestRegressor</div></div><div><a class=\"sk-estimator-doc-link fitted\" rel=\"noreferrer\" target=\"_blank\" href=\"https://scikit-learn.org/1.6/modules/generated/sklearn.ensemble.RandomForestRegressor.html\">?<span>Documentation for RandomForestRegressor</span></a><span class=\"sk-estimator-doc-link fitted\">i<span>Fitted</span></span></div></label><div class=\"sk-toggleable__content fitted\"><pre>RandomForestRegressor()</pre></div> </div></div></div></div>"
            ]
          },
          "metadata": {},
          "execution_count": 2
        }
      ]
    },
    {
      "source": [
        "import math\n",
        "\n",
        "# ... your existing code ...\n",
        "\n",
        "# Calculate RMSE manually using math.sqrt()\n",
        "rmse = math.sqrt(mse)\n",
        "\n",
        "print(f\"MAE: {mae}\")\n",
        "print(f\"MSE: {mse}\")\n",
        "print(f\"RMSE: {rmse}\")"
      ],
      "cell_type": "code",
      "metadata": {
        "colab": {
          "base_uri": "https://localhost:8080/",
          "height": 211
        },
        "id": "iveyAyoEGduD",
        "outputId": "cf601b76-fee3-4349-b4cc-26443e17d372"
      },
      "execution_count": null,
      "outputs": [
        {
          "output_type": "error",
          "ename": "NameError",
          "evalue": "name 'mse' is not defined",
          "traceback": [
            "\u001b[0;31m---------------------------------------------------------------------------\u001b[0m",
            "\u001b[0;31mNameError\u001b[0m                                 Traceback (most recent call last)",
            "\u001b[0;32m<ipython-input-3-9c7c12fedf2e>\u001b[0m in \u001b[0;36m<cell line: 0>\u001b[0;34m()\u001b[0m\n\u001b[1;32m      4\u001b[0m \u001b[0;34m\u001b[0m\u001b[0m\n\u001b[1;32m      5\u001b[0m \u001b[0;31m# Calculate RMSE manually using math.sqrt()\u001b[0m\u001b[0;34m\u001b[0m\u001b[0;34m\u001b[0m\u001b[0m\n\u001b[0;32m----> 6\u001b[0;31m \u001b[0mrmse\u001b[0m \u001b[0;34m=\u001b[0m \u001b[0mmath\u001b[0m\u001b[0;34m.\u001b[0m\u001b[0msqrt\u001b[0m\u001b[0;34m(\u001b[0m\u001b[0mmse\u001b[0m\u001b[0;34m)\u001b[0m\u001b[0;34m\u001b[0m\u001b[0;34m\u001b[0m\u001b[0m\n\u001b[0m\u001b[1;32m      7\u001b[0m \u001b[0;34m\u001b[0m\u001b[0m\n\u001b[1;32m      8\u001b[0m \u001b[0mprint\u001b[0m\u001b[0;34m(\u001b[0m\u001b[0;34mf\"MAE: {mae}\"\u001b[0m\u001b[0;34m)\u001b[0m\u001b[0;34m\u001b[0m\u001b[0;34m\u001b[0m\u001b[0m\n",
            "\u001b[0;31mNameError\u001b[0m: name 'mse' is not defined"
          ]
        }
      ]
    },
    {
      "cell_type": "code",
      "source": [
        "from sklearn.model_selection import GridSearchCV\n",
        "\n",
        "param_grid = {\n",
        "    'n_estimators': [100, 200],\n",
        "    'max_depth': [10, 20, None],\n",
        "    'min_samples_split': [2, 5, 10],\n",
        "}\n",
        "\n",
        "grid_search = GridSearchCV(RandomForestRegressor(), param_grid, cv=3, scoring='neg_mean_absolute_error')\n",
        "grid_search.fit(X_train, y_train)\n",
        "\n",
        "print(\"Best Parameters:\", grid_search.best_params_)\n"
      ],
      "metadata": {
        "id": "AnakUsZgGfuH"
      },
      "execution_count": null,
      "outputs": []
    },
    {
      "source": [
        "# Assuming your model was trained with 'feature1' and 'feature2'\n",
        "# Replace with the actual features used during training\n",
        "distance = 2.5  # Example value for 'feature1'\n",
        "time_of_day = 8  # Example value for 'feature2'\n",
        "# ... define other relevant features ...\n",
        "\n",
        "# Create the new_data list with the defined feature values\n",
        "new_data = [[distance, time_of_day]]  # Adjust based on your features\n",
        "\n",
        "# Make predictions\n",
        "predicted_time = model.predict(new_data)\n",
        "\n",
        "print(f\"Predicted Delivery Time: {predicted_time}\")"
      ],
      "cell_type": "code",
      "metadata": {
        "id": "C_C8ndlKG9SZ"
      },
      "execution_count": null,
      "outputs": []
    },
    {
      "cell_type": "code",
      "source": [
        "# Check for missing values\n",
        "df.isnull().sum()\n",
        "\n",
        "# Remove rows with missing target variable (delivery_time)\n",
        "df = df.dropna(subset=['delivery_time'])\n",
        "\n",
        "# Optionally, remove rows with missing features\n",
        "df = df.dropna()\n"
      ],
      "metadata": {
        "id": "_YIm9cWeHBHF"
      },
      "execution_count": null,
      "outputs": []
    },
    {
      "source": [
        "# Assuming 'delivery_time' represents the time of order placement\n",
        "# Convert 'delivery_time' to datetime objects if it's not already\n",
        "df['delivery_time'] = pd.to_datetime(df['delivery_time'], errors='coerce')  # Handle potential errors during conversion\n",
        "\n",
        "# Extract features like hour of the day and day of the week\n",
        "df['hour'] = df['delivery_time'].dt.hour\n",
        "df['day_of_week'] = df['delivery_time'].dt.dayofweek  # Monday=0, Sunday=6\n",
        "\n",
        "# Add example categorical columns"
      ],
      "cell_type": "code",
      "metadata": {
        "id": "MtqYeyMnHj6W"
      },
      "execution_count": null,
      "outputs": []
    },
    {
      "source": [
        "# Add a 'weather_condition' column to your DataFrame before using pd.get_dummies\n",
        "# For example, you can add it with sample data:\n",
        "df['weather_condition'] = ['Sunny', 'Cloudy', 'Rainy', 'Sunny', 'Cloudy']\n",
        "\n",
        "# One-hot encoding for categorical features\n",
        "df = pd.get_dummies(df, columns=['day_of_week', 'weather_condition'], drop_first=True)"
      ],
      "cell_type": "code",
      "metadata": {
        "id": "IUjdyS6ZHuyY"
      },
      "execution_count": null,
      "outputs": []
    },
    {
      "source": [
        "from sklearn.preprocessing import StandardScaler\n",
        "\n",
        "# Assuming 'distance' is a variable, create a new column in the DataFrame\n",
        "df['distance'] = distance  # Assuming 'distance' is defined earlier in your code\n",
        "\n",
        "scaler = StandardScaler()\n",
        "df['scaled_distance'] = scaler.fit_transform(df[['distance']])"
      ],
      "cell_type": "code",
      "metadata": {
        "id": "3PU3oE2RH4yq"
      },
      "execution_count": null,
      "outputs": []
    },
    {
      "cell_type": "code",
      "source": [
        "from sklearn.model_selection import train_test_split\n",
        "\n",
        "# Features (all columns except 'delivery_time')\n",
        "X = df.drop(columns=['delivery_time'])\n",
        "\n",
        "# Target (delivery time)\n",
        "y = df['delivery_time']\n",
        "\n",
        "# Split into training and testing sets (80% train, 20% test)\n",
        "X_train, X_test, y_train, y_test = train_test_split(X, y, test_size=0.2, random_state=42)\n"
      ],
      "metadata": {
        "id": "KEFWV-SwH80I"
      },
      "execution_count": null,
      "outputs": []
    },
    {
      "cell_type": "code",
      "source": [
        "from sklearn.ensemble import RandomForestRegressor\n",
        "\n",
        "# Initialize the model\n",
        "model = RandomForestRegressor(n_estimators=100, random_state=42)\n",
        "\n",
        "# Train the model\n",
        "model.fit(X_train, y_train)\n"
      ],
      "metadata": {
        "id": "aFVYO2DzIH7t"
      },
      "execution_count": null,
      "outputs": []
    },
    {
      "source": [
        "from sklearn.metrics import mean_absolute_error, mean_squared_error\n",
        "import math  # Import math separately\n",
        "\n",
        "# ... your existing code ...\n",
        "\n",
        "# Calculate RMSE manually using math.sqrt()\n",
        "rmse = math.sqrt(mse)\n",
        "\n",
        "print(f\"Mean Absolute Error: {mae}\")\n",
        "print(f\"Mean Squared Error: {mse}\")\n",
        "print(f\"Root Mean Squared Error: {rmse}\")"
      ],
      "cell_type": "code",
      "metadata": {
        "id": "xfWMqNcLIZbN"
      },
      "execution_count": null,
      "outputs": []
    },
    {
      "cell_type": "code",
      "source": [
        "from sklearn.metrics import r2_score\n",
        "\n",
        "# R-squared value\n",
        "r2 = r2_score(y_test, y_pred)\n",
        "print(f\"R²: {r2}\")\n"
      ],
      "metadata": {
        "id": "dk1xA9meIdvY"
      },
      "execution_count": null,
      "outputs": []
    },
    {
      "cell_type": "code",
      "source": [
        "from sklearn.model_selection import GridSearchCV\n",
        "\n",
        "# Hyperparameter grid\n",
        "param_grid = {\n",
        "    'n_estimators': [100, 200],\n",
        "    'max_depth': [10, 20, None],\n",
        "    'min_samples_split': [2, 5, 10],\n",
        "    'min_samples_leaf': [1, 2, 4]\n",
        "}\n",
        "\n",
        "# Perform Grid Search\n",
        "grid_search = GridSearchCV(RandomForestRegressor(), param_grid, cv=3, scoring='neg_mean_absolute_error')\n",
        "grid_search.fit(X_train, y_train)\n",
        "\n",
        "# Best parameters found by GridSearchCV\n",
        "print(\"Best Parameters:\", grid_search.best_params_)\n",
        "\n",
        "# Train with best parameters\n",
        "best_model = grid_search.best_estimator_\n",
        "best_model.fit(X_train, y_train)\n"
      ],
      "metadata": {
        "id": "KvyDbLxYIivy"
      },
      "execution_count": null,
      "outputs": []
    },
    {
      "source": [
        "# Example: Predict the delivery time for a new order\n",
        "# Assuming X_train has 7 features, ensure new_data also has 7 features\n",
        "# Replace with actual values for the missing features\n",
        "new_data = [[3.5, 10, 2, 1, 0, 0, 0]]  # Example with placeholders for missing features\n",
        "\n",
        "# Make predictions using the best model from GridSearchCV\n",
        "predicted_delivery_time = best_model.predict(new_data)\n",
        "\n",
        "print(f\"Predicted Delivery Time: {predicted_delivery_time[0]} minutes\")"
      ],
      "cell_type": "code",
      "metadata": {
        "id": "oqeNwomCI7dj"
      },
      "execution_count": null,
      "outputs": []
    },
    {
      "source": [
        "import numpy as np  # Import NumPy and alias it as 'np'\n",
        "from sklearn.metrics import mean_absolute_error, mean_squared_error, r2_score\n",
        "\n",
        "# Make predictions on the test set\n",
        "y_pred = model.predict(X_test)\n",
        "\n",
        "# Calculate MAE, MSE, RMSE, and R²\n",
        "mae = mean_absolute_error(y_test, y_pred)\n",
        "mse = mean_squared_error(y_test, y_pred)\n",
        "# Calculate RMSE using NumPy's sqrt function\n",
        "rmse = np.sqrt(mse)  # Use np.sqrt since NumPy is now imported\n",
        "r2 = r2_score(y_test, y_pred)\n",
        "\n",
        "# Print the evaluation metrics\n",
        "print(f\"Mean Absolute Error (MAE): {mae}\")\n",
        "print(f\"Mean Squared Error (MSE): {mse}\")\n",
        "print(f\"Root Mean Squared Error (RMSE): {rmse}\")\n",
        "print(f\"R-squared (R²): {r2}\")"
      ],
      "cell_type": "code",
      "metadata": {
        "id": "8Jgwg3WmJUf3"
      },
      "execution_count": null,
      "outputs": []
    },
    {
      "cell_type": "code",
      "source": [
        "from sklearn.model_selection import GridSearchCV\n",
        "\n",
        "# Define the parameter grid for Random Forest\n",
        "param_grid = {\n",
        "    'n_estimators': [100, 200, 300],  # Number of trees in the forest\n",
        "    'max_depth': [None, 10, 20, 30],  # Maximum depth of the trees\n",
        "    'min_samples_split': [2, 5, 10],  # Minimum number of samples required to split a node\n",
        "    'min_samples_leaf': [1, 2, 4],    # Minimum number of samples required at a leaf node\n",
        "    'max_features': ['auto', 'sqrt', 'log2']  # The number of features to consider for splits\n",
        "}\n",
        "\n",
        "# Initialize GridSearchCV with cross-validation\n",
        "grid_search = GridSearchCV(RandomForestRegressor(random_state=42),\n",
        "                           param_grid,\n",
        "                           cv=3,  # 3-fold cross-validation\n",
        "                           scoring='neg_mean_absolute_error',  # We use negative MAE as the scoring metric\n",
        "                           n_jobs=-1,  # Use all available CPUs\n",
        "                           verbose=2)  # To show detailed progress\n",
        "\n",
        "# Fit GridSearchCV to the training data\n",
        "grid_search.fit(X_train, y_train)\n",
        "\n",
        "# Print the best hyperparameters found\n",
        "print(\"Best Parameters Found: \", grid_search.best_params_)\n",
        "\n",
        "# Get the best model\n",
        "best_model = grid_search.best_estimator_\n"
      ],
      "metadata": {
        "id": "ozeysdUtJczK"
      },
      "execution_count": null,
      "outputs": []
    },
    {
      "source": [
        "# Make predictions with the tuned model\n",
        "y_pred_tuned = best_model.predict(X_test)\n",
        "\n",
        "# Evaluate the tuned model\n",
        "mae_tuned = mean_absolute_error(y_test, y_pred_tuned)\n",
        "mse_tuned = mean_squared_error(y_test, y_pred_tuned)\n",
        "\n",
        "# Calculate RMSE using NumPy's sqrt function (since 'squared' might not be available)\n",
        "rmse_tuned = np.sqrt(mse_tuned)\n",
        "\n",
        "r2_tuned = r2_score(y_test, y_pred_tuned)\n",
        "\n",
        "# Print evaluation metrics\n",
        "print(f\"Tuned Model - MAE: {mae_tuned}\")\n",
        "print(f\"Tuned Model - MSE: {mse_tuned}\")\n",
        "print(f\"Tuned Model - RMSE: {rmse_tuned}\")\n",
        "print(f\"Tuned Model - R²: {r2_tuned}\")"
      ],
      "cell_type": "code",
      "metadata": {
        "id": "UqbFvmKwKpRj"
      },
      "execution_count": null,
      "outputs": []
    },
    {
      "cell_type": "code",
      "source": [
        "from sklearn.model_selection import RandomizedSearchCV\n",
        "from scipy.stats import randint\n",
        "\n",
        "# Define the parameter distribution for RandomizedSearchCV\n",
        "param_dist = {\n",
        "    'n_estimators': randint(100, 1000),\n",
        "    'max_depth': [None, 10, 20, 30, 40],\n",
        "    'min_samples_split': randint(2, 10),\n",
        "    'min_samples_leaf': randint(1, 4),\n",
        "    'max_features': ['auto', 'sqrt', 'log2']\n",
        "}\n",
        "\n",
        "# Initialize RandomizedSearchCV\n",
        "random_search = RandomizedSearchCV(RandomForestRegressor(random_state=42),\n",
        "                                   param_distributions=param_dist,\n",
        "                                   n_iter=100,  # Number of random combinations to try\n",
        "                                   cv=3,  # 3-fold cross-validation\n",
        "                                   scoring='neg_mean_absolute_error',\n",
        "                                   n_jobs=-1,\n",
        "                                   random_state=42,\n",
        "                                   verbose=2)\n",
        "\n",
        "# Fit RandomizedSearchCV\n",
        "random_search.fit(X_train, y_train)\n",
        "\n",
        "# Best parameters found by RandomizedSearchCV\n",
        "print(\"Best Parameters Found by RandomizedSearchCV: \", random_search.best_params_)\n",
        "\n",
        "# Get the best model\n",
        "best_model_random = random_search.best_estimator_\n"
      ],
      "metadata": {
        "id": "e6ehAbW4JnAi"
      },
      "execution_count": null,
      "outputs": []
    },
    {
      "cell_type": "code",
      "source": [
        "# Get the feature importances from the trained model\n",
        "importances = best_model.feature_importances_\n",
        "\n",
        "# Create a pandas DataFrame to display features and their importance\n",
        "feature_importance_df = pd.DataFrame({\n",
        "    'Feature': X_train.columns,\n",
        "    'Importance': importances\n",
        "})\n",
        "\n",
        "# Sort the features by importance in descending order\n",
        "feature_importance_df = feature_importance_df.sort_values(by='Importance', ascending=False)\n",
        "\n",
        "print(\"Feature Importances:\\n\", feature_importance_df)\n"
      ],
      "metadata": {
        "id": "Q_2z7AmiLCy-"
      },
      "execution_count": null,
      "outputs": []
    },
    {
      "cell_type": "code",
      "source": [
        "# Check correlation matrix\n",
        "correlation_matrix = X_train.corr()\n",
        "\n",
        "# Display correlations greater than a threshold (e.g., 0.8)\n",
        "correlated_features = correlation_matrix[correlation_matrix > 0.8]\n",
        "print(correlated_features)\n"
      ],
      "metadata": {
        "id": "TAcSbcLNLNwW"
      },
      "execution_count": null,
      "outputs": []
    },
    {
      "source": [
        "# Example with Gradient Boosting Regressor\n",
        "from sklearn.ensemble import GradientBoostingRegressor\n",
        "from sklearn.metrics import mean_squared_error # import mean_squared_error\n",
        "\n",
        "# Initialize and train Gradient Boosting model\n",
        "gb_model = GradientBoostingRegressor(random_state=42)\n",
        "gb_model.fit(X_train, y_train)\n",
        "\n",
        "# Make predictions and evaluate the model\n",
        "y_pred_gb = gb_model.predict(X_test)\n",
        "\n",
        "# Evaluate using same metrics as before\n",
        "mae_gb = mean_absolute_error(y_test, y_pred_gb)\n",
        "\n",
        "# Calculate RMSE\n",
        "# Instead of using squared=False, use np.sqrt on the output of mean_squared"
      ],
      "cell_type": "code",
      "metadata": {
        "id": "79sHTWihLaDN"
      },
      "execution_count": null,
      "outputs": []
    },
    {
      "source": [
        "from sklearn.ensemble import StackingRegressor\n",
        "from sklearn.linear_model import LinearRegression\n",
        "\n",
        "# Initialize base models\n",
        "models = [\n",
        "    ('rf', RandomForestRegressor(random_state=42)),\n",
        "    ('gb', GradientBoostingRegressor(random_state=42))\n",
        "]\n",
        "\n",
        "# Initialize stacking regressor with a lower cv value\n",
        "# The cv parameter is set to 2, which should be less than the number of training samples\n",
        "stacking_model = StackingRegressor(estimators=models, final_estimator=LinearRegression(), cv=2)\n",
        "\n",
        "# Train the stacked model\n",
        "stacking_model.fit(X_train, y_train)\n",
        "\n",
        "# Make predictions and evaluate\n",
        "y_pred_stack = stacking_model.predict(X_test)\n",
        "mae_stack = mean_absolute_error(y_test, y_pred_stack)\n",
        "r2_stack = r2_score(y_test, y_pred_stack)\n",
        "\n",
        "print(f\"Stacking Model - MAE: {mae_stack}\")\n",
        "print(f\"Stacking Model - R²: {r2_stack}\")"
      ],
      "cell_type": "code",
      "metadata": {
        "id": "baZ1v1l3LmGW"
      },
      "execution_count": null,
      "outputs": []
    },
    {
      "cell_type": "code",
      "source": [
        "import joblib\n",
        "\n",
        "# Save the model to a file\n",
        "joblib.dump(best_model, 'delivery_time_predictor.pkl')\n"
      ],
      "metadata": {
        "id": "x_qS0IWELvlO"
      },
      "execution_count": null,
      "outputs": []
    },
    {
      "source": [
        "!pip install fastapi uvicorn"
      ],
      "cell_type": "code",
      "metadata": {
        "id": "riYsrHIeL72_"
      },
      "execution_count": null,
      "outputs": []
    },
    {
      "source": [
        "import matplotlib.pyplot as plt\n",
        "import seaborn as sns\n",
        "import numpy as np # import numpy\n",
        "\n",
        "# ... (your existing code) ...\n",
        "\n",
        "# Convert y_test to numeric values (e.g., total seconds) before subtraction\n",
        "# This will allow you to calculate residuals properly\n",
        "# Assuming your 'delivery_time' is in datetime format, you can convert it to seconds since epoch\n",
        "# or another suitable numeric representation.\n",
        "\n",
        "# Example: Convert to total seconds since the epoch\n",
        "# Make sure to choose a conversion that makes sense for your data\n",
        "y_test_numeric = y_test.map(pd.Timestamp.timestamp)\n",
        "\n",
        "# Calculate residuals using the numeric representation of y_test\n",
        "residuals = y_test_numeric - y_pred\n",
        "\n",
        "# Now you can create the residual plot\n",
        "plt.figure(figsize=(10, 6))\n",
        "sns.residplot(x=y_pred, y=residuals, lowess=True, line_kws={'color': 'red', 'lw': 1})\n",
        "plt.xlabel('Predicted Values')\n",
        "plt.ylabel('Residuals')\n",
        "plt.title('Residual Plot')\n",
        "plt.show()"
      ],
      "cell_type": "code",
      "metadata": {
        "id": "F4CQgwk0M6VQ"
      },
      "execution_count": null,
      "outputs": []
    },
    {
      "cell_type": "code",
      "source": [
        "plt.figure(figsize=(8, 8))\n",
        "plt.scatter(y_test, y_pred, alpha=0.7)\n",
        "plt.plot([min(y_test), max(y_test)], [min(y_test), max(y_test)], color='red', linestyle='--')\n",
        "plt.xlabel('Observed Values')\n",
        "plt.ylabel('Predicted Values')\n",
        "plt.title('Parity Plot')\n",
        "plt.show()\n"
      ],
      "metadata": {
        "id": "XZs1gY8UM-ef"
      },
      "execution_count": null,
      "outputs": []
    },
    {
      "source": [
        "import statsmodels.api as sm\n",
        "import numpy as np\n",
        "import pandas as pd\n",
        "import matplotlib.pyplot as plt\n",
        "import seaborn as sns\n",
        "from sklearn.model_selection import train_test_split\n",
        "from sklearn.ensemble import RandomForestRegressor\n",
        "\n",
        "# Create a sample DataFrame (replace with your actual data loading)\n",
        "data = {'delivery_time': [30, 25, 40, 35, 20],\n",
        "        'feature1': [1, 2, 3, 4, 5],\n",
        "        'feature2': [6, 7, 8, 9, 10]}\n",
        "df = pd.DataFrame(data) # Define df here\n",
        "\n",
        "# Split data into features (X) and target (y)\n",
        "X = df.drop('delivery_time', axis=1)\n",
        "y = df['delivery_time']\n",
        "\n",
        "# Split data into training and testing sets\n",
        "X_train, X_test, y_train, y_test = train_test_split(X, y, test_size=0.2, random_state=42)\n",
        "\n",
        "# Now proceed with your code using X_train, X_test, y_train, y_test\n",
        "# ... your existing code ...\n",
        "\n",
        "# Convert relevant columns to numeric type\n",
        "# Include 'category' in the list of problematic types\n",
        "relevant_columns = X_train.select_dtypes(include=['number', 'object', 'datetime', 'category']).columns\n",
        "\n",
        "# Loop through relevant columns and attempt numeric conversion\n",
        "for col in relevant_columns:\n",
        "    try:\n",
        "        # Attempt to convert to numeric, handling errors by coercing to NaN\n",
        "        X_train[col] = pd.to_numeric(X_train[col], errors='coerce')\n",
        "    except (ValueError, TypeError):\n",
        "        # Print a warning and continue if conversion fails\n",
        "        print(f\"Warning: Could not convert column '{col}' to numeric. Skipping.\")\n",
        "\n",
        "# ... rest of your existing code ..."
      ],
      "cell_type": "code",
      "metadata": {
        "id": "M50KDwzvPkbS"
      },
      "execution_count": null,
      "outputs": []
    },
    {
      "source": [
        "import pandas as pd\n",
        "\n",
        "# Replace '/content/sample_data' with the actual path to your CSV file.\n",
        "# If 'sample_data' is a directory containing multiple CSV files, you'll\n",
        "# need to specify the desired file.\n",
        "#\n",
        "# For example, if the file is named 'data.csv' inside 'sample_data', use:\n",
        "# file_path = \"/content/sample_data/data.csv\"\n",
        "\n",
        "file_path = \"/content/sample_data/california_housing_train.csv\"  # Replace with correct path\n",
        "df = pd.read_csv(file_path)\n",
        "\n",
        "# Display basic info\n",
        "print(df.info())\n",
        "df.head()"
      ],
      "cell_type": "code",
      "metadata": {
        "id": "5D5osfQEQMnX"
      },
      "execution_count": null,
      "outputs": []
    },
    {
      "cell_type": "code",
      "source": [
        "import missingno as msno\n",
        "\n",
        "# Visualize missing values\n",
        "msno.matrix(df)\n"
      ],
      "metadata": {
        "id": "YlF2ppmwQTah"
      },
      "execution_count": null,
      "outputs": []
    },
    {
      "cell_type": "code",
      "source": [
        "# Drop or fill missing values\n",
        "df = df.dropna()  # Drop rows with NaN (alternative: df.fillna(value))\n"
      ],
      "metadata": {
        "id": "VYf4KtzJQTgo"
      },
      "execution_count": null,
      "outputs": []
    },
    {
      "cell_type": "code",
      "source": [
        "df.describe()\n"
      ],
      "metadata": {
        "id": "L10km1-VQaea"
      },
      "execution_count": null,
      "outputs": []
    },
    {
      "source": [
        "import matplotlib.pyplot as plt\n",
        "import seaborn as sns\n",
        "\n",
        "# Assuming 'median_house_value' is the target variable in your new dataset\n",
        "plt.figure(figsize=(8, 5))\n",
        "sns.histplot(df[\"median_house_value\"], bins=30, kde=True)  # Changed column name\n",
        "plt.title(\"Distribution of Median House Value\")  # Changed title\n",
        "plt.xlabel(\"Median House Value\")  # Changed x-axis label\n",
        "plt.ylabel(\"Frequency\")\n",
        "plt.show()"
      ],
      "cell_type": "code",
      "metadata": {
        "id": "RKWcOwCNQo5g"
      },
      "execution_count": null,
      "outputs": []
    },
    {
      "source": [
        "plt.figure(figsize=(6, 4))\n",
        "# Assuming 'median_house_value' is the target in your new dataset\n",
        "sns.boxplot(x=df[\"median_house_value\"])  # Changed to 'median_house_value'\n",
        "plt.title(\"Box Plot of Median House Value\")  # Changed title to match\n",
        "plt.show()"
      ],
      "cell_type": "code",
      "metadata": {
        "id": "gIdjfa3SQ6Bs"
      },
      "execution_count": null,
      "outputs": []
    },
    {
      "cell_type": "code",
      "source": [
        "plt.figure(figsize=(10, 6))\n",
        "sns.heatmap(df.corr(), annot=True, cmap=\"coolwarm\", fmt=\".2f\")\n",
        "plt.title(\"Feature Correlation Heatmap\")\n",
        "plt.show()\n"
      ],
      "metadata": {
        "id": "-7hyQtUwQ_3T"
      },
      "execution_count": null,
      "outputs": []
    },
    {
      "source": [
        "# Add a 'delivery_time' column to your DataFrame with sample data\n",
        "# Replace with your actual delivery time data if available\n",
        "# Example: Generate random delivery times between 10 and 60 minutes\n",
        "import numpy as np\n",
        "df['delivery_time'] = np.random.randint(10, 60, size=len(df))\n",
        "\n",
        "\n",
        "# Add a 'traffic_condition' column to your DataFrame\n",
        "# Replace with your actual traffic condition data if available\n",
        "# Repeat the values to match the length of the DataFrame\n",
        "traffic_conditions = ['Low', 'Medium', 'High', 'Low', 'Medium']\n",
        "df['traffic_condition'] = traffic_conditions * (len(df) // len(traffic_conditions)) + traffic_conditions[:len(df) % len(traffic_conditions)]\n",
        "\n",
        "# Now you can create the box plot\n",
        "plt.figure(figsize=(6, 4))\n",
        "sns.boxplot(x=\"traffic_condition\", y=\"delivery_time\", data=df)  # Now 'delivery_time' is available\n",
        "plt.title(\"Delivery Time Based on Traffic Conditions\")\n",
        "plt.show()"
      ],
      "cell_type": "code",
      "metadata": {
        "id": "i-UL22-KRvVT"
      },
      "execution_count": null,
      "outputs": []
    },
    {
      "cell_type": "code",
      "source": [
        "import numpy as np\n",
        "import pandas as pd\n",
        "import matplotlib.pyplot as plt\n",
        "import seaborn as sns\n",
        "from sklearn.model_selection import train_test_split\n",
        "from sklearn.ensemble import RandomForestRegressor\n",
        "from sklearn.metrics import r2_score, mean_absolute_error\n",
        "\n",
        "np.random.seed(42)\n",
        "data_size = 500\n",
        "df = pd.DataFrame({\n",
        "    'order_prep_time': np.random.randint(5, 30, data_size),\n",
        "    'restaurant_distance': np.random.uniform(0.5, 15, data_size),\n",
        "    'traffic_level': np.random.randint(1, 5, data_size)\n",
        "})\n",
        "\n",
        "df['delivery_time'] = (\n",
        "    df['order_prep_time'] +\n",
        "    (df['restaurant_distance'] * np.random.uniform(1.5, 3.5, data_size)) +\n",
        "    (df['traffic_level'] * np.random.uniform(1, 4, data_size))\n",
        ").astype(int)\n",
        "\n",
        "X = df[['order_prep_time', 'restaurant_distance', 'traffic_level']]\n",
        "y = df['delivery_time']\n",
        "X_train, X_test, y_train, y_test = train_test_split(X, y, test_size=0.2, random_state=42)\n",
        "\n",
        "model = RandomForestRegressor(n_estimators=100, random_state=42)\n",
        "model.fit(X_train, y_train)\n",
        "\n",
        "y_pred = model.predict(X_test)\n",
        "\n",
        "r2 = r2_score(y_test, y_pred)\n",
        "mae = mean_absolute_error(y_test, y_pred)\n",
        "\n",
        "print(f\"Model Accuracy (R² Score): {r2:.2f}\")\n",
        "print(f\"Mean Absolute Error: {mae:.2f} minutes\")\n",
        "\n",
        "if r2 >= 0.80:\n",
        "    print(\"The model meets the accuracy requirement (≥ 80%).\")\n",
        "else:\n",
        "    print(\"The model needs improvement.\")\n",
        "\n",
        "plt.figure(figsize=(8, 6))\n",
        "sns.scatterplot(x=y_test, y=y_pred, alpha=0.7)\n",
        "plt.plot([y_test.min(), y_test.max()], [y_test.min(), y_test.max()], 'r--')\n",
        "plt.xlabel(\"Actual Delivery Time (mins)\")\n",
        "plt.ylabel(\"Predicted Delivery Time (mins)\")\n",
        "plt.title(\"Actual vs Predicted Delivery Time\")\n",
        "plt.show()\n"
      ],
      "metadata": {
        "id": "JhW6l6AmkS42",
        "outputId": "fd438c16-15ed-4862-e48d-240e56b3e92d",
        "colab": {
          "base_uri": "https://localhost:8080/",
          "height": 616
        }
      },
      "execution_count": null,
      "outputs": [
        {
          "output_type": "stream",
          "name": "stdout",
          "text": [
            "Model Accuracy (R² Score): 0.81\n",
            "Mean Absolute Error: 4.77 minutes\n",
            "The model meets the accuracy requirement (≥ 80%).\n"
          ]
        },
        {
          "output_type": "display_data",
          "data": {
            "text/plain": [
              "<Figure size 800x600 with 1 Axes>"
            ],
            "image/png": "[encoded data removed]"
          },
          "metadata": {}
        }
      ]
    }
  ]
}